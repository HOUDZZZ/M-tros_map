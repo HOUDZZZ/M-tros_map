{
  "nbformat": 4,
  "nbformat_minor": 0,
  "metadata": {
    "colab": {
      "name": "Métros",
      "private_outputs": true,
      "provenance": [],
      "collapsed_sections": []
    },
    "kernelspec": {
      "name": "python3",
      "display_name": "Python 3"
    },
    "language_info": {
      "name": "python"
    }
  },
  "cells": [
    {
      "cell_type": "code",
      "execution_count": null,
      "metadata": {
        "id": "vOcQWudKUlEL"
      },
      "outputs": [],
      "source": [
        "from google.colab import files\n",
        " \n",
        " \n",
        "uploaded = files.upload()\n",
        "\n",
        "#Ici je upload le fichier métros créé par Jamila et qui sera sur le Drive \n"
      ]
    },
    {
      "cell_type": "code",
      "source": [
        "!apt update\n",
        "!apt upgrade\n",
        "!apt install gdal-bin python-gdal python3-gdal \n",
        "# Install rtree - Geopandas requirment\n",
        "!apt install python3-rtree \n",
        "# Install Geopandas\n",
        "!pip install git+git://github.com/geopandas/geopandas.git\n",
        "# Install descartes - Geopandas requirment\n",
        "!pip install descartes"
      ],
      "metadata": {
        "id": "QxafRJL2VjXj"
      },
      "execution_count": null,
      "outputs": []
    },
    {
      "cell_type": "code",
      "source": [
        "import pandas as pd\n",
        "import json\n",
        "import requests"
      ],
      "metadata": {
        "id": "cnhd24bgWBkF"
      },
      "execution_count": null,
      "outputs": []
    },
    {
      "cell_type": "code",
      "source": [
        "!pip install geopandas"
      ],
      "metadata": {
        "id": "YGK1M2zSYIJy"
      },
      "execution_count": null,
      "outputs": []
    },
    {
      "cell_type": "code",
      "source": [
        "import pandas as pd\n",
        "import matplotlib.pyplot as plt\n",
        "import geopandas as gpd\n",
        "import folium\n",
        "\n",
        "import rtree\n",
        "\n",
        "from shapely.geometry import Point\n",
        "from shapely.ops import transform\n",
        "\n",
        "from IPython.display import display"
      ],
      "metadata": {
        "id": "-2QYWrjpYEN9"
      },
      "execution_count": null,
      "outputs": []
    },
    {
      "cell_type": "code",
      "source": [
        "df = pd.read_json(\"metro_localisation_stations.json\")\n",
        "\n",
        "df = pd.json_normalize(df[\"fields\"])\n",
        "df.head(2)\n",
        "df.sort_values(by=\"ordre\", ascending= True)"
      ],
      "metadata": {
        "id": "tycZS9EqVZ1r"
      },
      "execution_count": null,
      "outputs": []
    },
    {
      "cell_type": "code",
      "source": [
        "#création de la map\n",
        "\n",
        "map = folium.Map(location=[48.11061626132643, -1.676272759514947]\t, tiles=\"OpenStreetMap\", zoom_start=12)\n",
        "\n"
      ],
      "metadata": {
        "id": "BUVim3wzYWzi"
      },
      "execution_count": null,
      "outputs": []
    },
    {
      "cell_type": "code",
      "source": [
        "# création de deux dataframe séparées pour le métro a et le métro b de Rennes, il faut absolument faire le tri (sort_values) pour avoir un polyline qui tient la route (pas des zigzags)\n",
        "dfa= df[df[\"ligne\"]== \"a\"]\n",
        "dfa= dfa.sort_values(by=\"ordre\")\n",
        "\n",
        "dfb= df[df[\"ligne\"]== \"b\"]\n",
        "dfb= dfb.sort_values(by=\"ordre\")"
      ],
      "metadata": {
        "id": "2JhLCE-ZEdJf"
      },
      "execution_count": null,
      "outputs": []
    },
    {
      "cell_type": "code",
      "source": [
        "#création d'une liste qui va contenir les listes coordinates ou les points d'arrêts du métro a\n",
        "listea = []\n",
        "for index, row in dfa.iterrows():\n",
        "  listea.append(row[\"geo_point_2d\"])\n",
        "\n"
      ],
      "metadata": {
        "id": "IPiiG_CPZLHs"
      },
      "execution_count": null,
      "outputs": []
    },
    {
      "cell_type": "code",
      "source": [
        "#création d'une liste qui va contenir les listes coordinates ou les points d'arrêts du métro b\n",
        "listeb = []\n",
        "for index, row in dfb.iterrows():\n",
        "  listeb.append(row[\"geo_point_2d\"])"
      ],
      "metadata": {
        "id": "nX2_ENpsZs05"
      },
      "execution_count": null,
      "outputs": []
    },
    {
      "cell_type": "code",
      "source": [
        "#ajout des polylines du métro a sur la map\n",
        "MyPolyline = folium.PolyLine(locations = listea,color = 'red',popup = \"ligne a\", weight=5).add_to(map)"
      ],
      "metadata": {
        "id": "75TxtDdjWGwS"
      },
      "execution_count": null,
      "outputs": []
    },
    {
      "cell_type": "code",
      "source": [
        "#ajout des polylines du métro a sur la map\n",
        "MyPolyline = folium.PolyLine(locations = listeb,color = 'green',popup = \"ligne b\", weight=5).add_to(map)"
      ],
      "metadata": {
        "id": "ZhkZjWkwZ1LQ"
      },
      "execution_count": null,
      "outputs": []
    },
    {
      "cell_type": "code",
      "source": [
        "# ajout des points d'arrets du métro a sur la map (affichage de points sur la map)\n",
        "\n",
        "for index, row in dfa.iterrows():\n",
        "  stop_points_marker = folium.CircleMarker(\n",
        "                        location = (row['y_wgs84'], row['x_wgs84']),\n",
        "                        tooltip = row['nom'],\n",
        "                        fill_opacity = 1,\n",
        "                        color = 'white',\n",
        "                        fill_color = 'grey', \n",
        "                        radius = 5,\n",
        "                        tileSize = 1\n",
        "                    ).add_to(map)"
      ],
      "metadata": {
        "id": "VO5lCfOmVNgA"
      },
      "execution_count": null,
      "outputs": []
    },
    {
      "cell_type": "code",
      "source": [
        "# ajout des points d'arrets du métro b sur la map (affichage de points sur la map)\n",
        "for index, row in dfb.iterrows():\n",
        "  stop_points_marker = folium.CircleMarker(\n",
        "                        location = (row['y_wgs84'], row['x_wgs84']),\n",
        "                        tooltip = row['nom'],\n",
        "                        fill_opacity = 1,\n",
        "                        color = 'white',\n",
        "                        fill_color = 'grey', \n",
        "                        radius = 5,\n",
        "                        tileSize = 1\n",
        "                    ).add_to(map)"
      ],
      "metadata": {
        "id": "8WMuCmOVZx3B"
      },
      "execution_count": null,
      "outputs": []
    },
    {
      "cell_type": "code",
      "source": [
        "map"
      ],
      "metadata": {
        "id": "NnAiZS4FVvL_"
      },
      "execution_count": null,
      "outputs": []
    },
    {
      "cell_type": "code",
      "source": [
        "# ici j'ai téléchargé des images que je vais ajouter par la suite à la fin et au début des polyline (des images des logos des lignes du métro)\n",
        "files.upload()"
      ],
      "metadata": {
        "id": "gI85lB6MaaC5"
      },
      "execution_count": null,
      "outputs": []
    },
    {
      "cell_type": "code",
      "source": [
        "folium.Marker(location = [48.12129906668309, -1.711260787248822],icon = folium.features.CustomIcon('Logo_Metro_Rennes_ligne_a.svg.png', icon_size=(20, 20))\n",
        "                    ).add_to(map)"
      ],
      "metadata": {
        "id": "IRaY0iFHay00"
      },
      "execution_count": null,
      "outputs": []
    },
    {
      "cell_type": "code",
      "source": [
        "folium.Marker(location = [48.08749035357228, -1.644572973092827],icon = folium.features.CustomIcon('Logo_Metro_Rennes_ligne_a.svg.png', icon_size=(20, 20))\n",
        "                    ).add_to(map)"
      ],
      "metadata": {
        "id": "sdRUX6XbjBa7"
      },
      "execution_count": null,
      "outputs": []
    },
    {
      "cell_type": "code",
      "source": [
        "folium.Marker(location = [48.09204676604979, -1.7036201194596772],icon = folium.features.CustomIcon('Logo_ligne_b_metro_rennes.svg.png', icon_size=(20, 20))\n",
        "                    ).add_to(map)"
      ],
      "metadata": {
        "id": "z0TtT8rFjdlC"
      },
      "execution_count": null,
      "outputs": []
    },
    {
      "cell_type": "code",
      "source": [
        "folium.Marker(location = [48.13149294864407, -1.620061335878703],icon = folium.features.CustomIcon('Logo_ligne_b_metro_rennes.svg.png', icon_size=(20, 20))\n",
        "                    ).add_to(map)"
      ],
      "metadata": {
        "id": "JQaJtGOOjddu"
      },
      "execution_count": null,
      "outputs": []
    },
    {
      "cell_type": "code",
      "source": [
        "map"
      ],
      "metadata": {
        "id": "n7YIJvvzkxzs"
      },
      "execution_count": null,
      "outputs": []
    },
    {
      "cell_type": "code",
      "source": [
        "# pour sauvegarder la map sous format html et pouvoir l'ajouter à google sites\n",
        "map.save(outfile='mapmetro.html')"
      ],
      "metadata": {
        "id": "9wETqk6tHezj"
      },
      "execution_count": null,
      "outputs": []
    }
  ]
}